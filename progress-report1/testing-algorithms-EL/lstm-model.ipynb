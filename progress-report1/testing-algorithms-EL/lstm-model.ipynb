{
 "cells": [
  {
   "cell_type": "markdown",
   "metadata": {},
   "source": [
    "<h1>LSTM Modeling</h1>"
   ]
  },
  {
   "cell_type": "code",
   "execution_count": null,
   "metadata": {},
   "outputs": [],
   "source": [
    "# Process data and prepare dataframe. Change the file path to the location of the data file and the time step to the desired time step\n",
    "from data_process import prepare_dataframe\n",
    "file_path = \"../../../CLT_data.csv\"\n",
    "time_step = \"d\"\n",
    "df = prepare_dataframe(file_path, time_step)"
   ]
  },
  {
   "cell_type": "markdown",
   "metadata": {},
   "source": [
    "<h2>Normalizing the data to a smaller range (0-1)</h2>\n",
    "<p>After some research LSTM seem to work better with a smaller consistent range of values. In the case of calls, we get some days with lots and some with less</p>\n",
    "<p>I apply some scalar methods from https://machinelearningmastery.com/how-to-scale-data-for-long-short-term-memory-networks-in-python/</p><br>\n",
    "<h4>Things that normalizing data is good for:<h4>\n",
    "<ul>\n",
    "    <li>Speeds up learning</li>\n",
    "    <li>Avoids exploding gradients (makes training unstable)</li>\n",
    "    <li>Makes it easier to adjust the weights of each data point/node</li>\n",
    "</ul>"
   ]
  },
  {
   "cell_type": "code",
   "execution_count": null,
   "metadata": {},
   "outputs": [],
   "source": [
    "from sklearn.preprocessing import MinMaxScaler\n",
    "\n",
    "# Normalize the call count data\n",
    "scalar = MinMaxScaler(feature_range=(0, 1))\n",
    "df[\"scaled_call_count\"] = scalar.fit_transform(df[\"call_count\"].values.reshape(-1, 1))"
   ]
  },
  {
   "cell_type": "markdown",
   "metadata": {},
   "source": [
    "<h2>Create time-series generator</h2>\n",
    "<p>Here we create generators to </p>\n",
    "<p>https://machinelearningmastery.com/how-to-use-the-timeseriesgenerator-for-time-series-forecasting-in-keras/</p>"
   ]
  },
  {
   "cell_type": "code",
   "execution_count": 1,
   "metadata": {},
   "outputs": [
    {
     "ename": "ModuleNotFoundError",
     "evalue": "No module named 'tensorflow'",
     "output_type": "error",
     "traceback": [
      "\u001b[1;31m---------------------------------------------------------------------------\u001b[0m",
      "\u001b[1;31mModuleNotFoundError\u001b[0m                       Traceback (most recent call last)",
      "Cell \u001b[1;32mIn[1], line 1\u001b[0m\n\u001b[1;32m----> 1\u001b[0m \u001b[38;5;28;01mfrom\u001b[39;00m\u001b[38;5;250m \u001b[39m\u001b[38;5;21;01mtensorflow\u001b[39;00m\u001b[38;5;21;01m.\u001b[39;00m\u001b[38;5;21;01mkeras\u001b[39;00m\u001b[38;5;21;01m.\u001b[39;00m\u001b[38;5;21;01mpreprocessing\u001b[39;00m\u001b[38;5;21;01m.\u001b[39;00m\u001b[38;5;21;01msequence\u001b[39;00m\u001b[38;5;250m \u001b[39m\u001b[38;5;28;01mimport\u001b[39;00m TimeseriesGenerator\n\u001b[0;32m      3\u001b[0m time_generator \u001b[38;5;241m=\u001b[39m TimeseriesGenerator(\n\u001b[0;32m      4\u001b[0m     df[\u001b[38;5;124m\"\u001b[39m\u001b[38;5;124mscaled_call_count\u001b[39m\u001b[38;5;124m\"\u001b[39m]\u001b[38;5;241m.\u001b[39mvalues,\n\u001b[0;32m      5\u001b[0m     df[\u001b[38;5;124m\"\u001b[39m\u001b[38;5;124mscaled_call_count\u001b[39m\u001b[38;5;124m\"\u001b[39m]\u001b[38;5;241m.\u001b[39mvalues,\n\u001b[0;32m      6\u001b[0m     length\u001b[38;5;241m=\u001b[39m\u001b[38;5;241m7\u001b[39m,\n\u001b[0;32m      7\u001b[0m     batch_size\u001b[38;5;241m=\u001b[39m\u001b[38;5;241m20\u001b[39m    \u001b[38;5;66;03m# The batch size here can be adjusted to optimize\u001b[39;00m\n\u001b[0;32m      8\u001b[0m     )\n\u001b[0;32m     10\u001b[0m \u001b[38;5;66;03m# We will split the data into training and testing sets\u001b[39;00m\n",
      "\u001b[1;31mModuleNotFoundError\u001b[0m: No module named 'tensorflow'"
     ]
    }
   ],
   "source": [
    "from tensorflow.keras.preprocessing.sequence import TimeseriesGenerator\n",
    "# The batch size here can be adjusted to optimize the model\n",
    "batch_size_num = 20\n",
    "\n",
    "# Create the initial generator that will be use\n",
    "time_generator = TimeseriesGenerator(\n",
    "    df[\"scaled_call_count\"].values,\n",
    "    df[\"scaled_call_count\"].values,\n",
    "    length=7,\n",
    "    batch_size=batch_size_num    \n",
    "    )\n",
    "\n",
    "# Split the data into training and testing sets\n",
    "split_index = int(len(df) * 0.8)  \n",
    "training_data = df.iloc[:split_index]\n",
    "testing_data = df.iloc[split_index:]\n",
    "\n",
    "# Create the training and testing generators\n",
    "training_generator = TimeseriesGenerator(\n",
    "    training_data[\"scaled_call_count\"].values,\n",
    "    training_data[\"scaled_call_count\"].values,\n",
    "    length=7,\n",
    "    batch_size=batch_size_num\n",
    "    )\n",
    "\n",
    "testing_generator = TimeseriesGenerator(\n",
    "    training_data[\"scaled_call_count\"].values,\n",
    "    training_data[\"scaled_call_count\"].values,\n",
    "    length=7,\n",
    "    batch_size=batch_size_num\n",
    "    )\n",
    "\n"
   ]
  },
  {
   "cell_type": "markdown",
   "metadata": {},
   "source": [
    "<h2>Building the LSTM Model and Training</h2>\n",
    "<p>Currently only uses 1 feature (time)</p>"
   ]
  },
  {
   "cell_type": "code",
   "execution_count": null,
   "metadata": {},
   "outputs": [],
   "source": [
    "from tensorflow.keras.models import Sequential\n",
    "from tensorflow.keras.layers import LSTM, Dense\n",
    "\n",
    "# Build model (needs to be tuned more)\n",
    "model = Sequential([\n",
    "    LSTM(150, activation='relu', input_shape=(7, 1)),\n",
    "    Dense(1),\n",
    "    LSTM(150, activation='relu'),\n",
    "    Dense(1)\n",
    "])\n",
    "\n",
    "# Train the model\n",
    "model.fit(training_generator, epochs=10, validation_data=testing_generator)"
   ]
  }
 ],
 "metadata": {
  "kernelspec": {
   "display_name": "Python 3",
   "language": "python",
   "name": "python3"
  },
  "language_info": {
   "codemirror_mode": {
    "name": "ipython",
    "version": 3
   },
   "file_extension": ".py",
   "mimetype": "text/x-python",
   "name": "python",
   "nbconvert_exporter": "python",
   "pygments_lexer": "ipython3",
   "version": "3.12.7"
  }
 },
 "nbformat": 4,
 "nbformat_minor": 2
}
